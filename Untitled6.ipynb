{
  "cells": [
    {
      "cell_type": "code",
      "execution_count": 14,
      "metadata": {
        "colab": {
          "base_uri": "https://localhost:8080/"
        },
        "id": "zGlf-io1wiZC",
        "outputId": "d00f7f2c-aa2f-41d7-ac56-8dc3cfa17837"
      },
      "outputs": [
        {
          "name": "stdout",
          "output_type": "stream",
          "text": [
            "✅ Model Accuracy: 0.175\n",
            "📊 Accuracy: 17.50%\n"
          ]
        },
        {
          "data": {
            "text/plain": [
              "['model_accuracy.pkl']"
            ]
          },
          "execution_count": 14,
          "metadata": {},
          "output_type": "execute_result"
        }
      ],
      "source": [
        "# 🐾 Animal Disease Prediction - Training Notebook\n",
        "\n",
        "# Step 1: Install dependencies\n",
        "\n",
        "# Step 2: Import required libraries\n",
        "import pandas as pd\n",
        "from sklearn.model_selection import train_test_split\n",
        "from sklearn.ensemble import RandomForestClassifier\n",
        "from sklearn.metrics import accuracy_score\n",
        "import joblib\n",
        "\n",
        "# Step 3: Load the dataset\n",
        "df = pd.read_csv('animal_disease_dataset_200.csv')\n",
        "df.head()\n",
        "\n",
        "# Step 4: Preprocessing\n",
        "df_encoded = pd.get_dummies(df, columns=['animal'])\n",
        "X = df_encoded.drop(['disease', 'recommendation'], axis=1)\n",
        "y = df['disease']\n",
        "\n",
        "# Step 5: Train-Test Split\n",
        "X_train, X_test, y_train, y_test = train_test_split(X, y, test_size=0.2, random_state=42)\n",
        "\n",
        "# Step 6: Model Training\n",
        "model = RandomForestClassifier(n_estimators=500, random_state=42)\n",
        "model.fit(X_train, y_train)\n",
        "preds = model.predict(X_test)\n",
        "\n",
        "# Step 7: Accuracy\n",
        "accuracy = accuracy_score(y_test, preds)\n",
        "print(\"✅ Model Accuracy:\", accuracy)\n",
        "print(f\"📊 Accuracy: {accuracy * 100:.2f}%\")\n",
        "\n",
        "# Step 8: Save model and helpers\n",
        "joblib.dump(model, 'animal_disease_model.pkl')\n",
        "joblib.dump(X.columns.tolist(), 'model_columns.pkl')\n",
        "recommendation_dict = df.set_index('disease')['recommendation'].to_dict()\n",
        "joblib.dump(recommendation_dict, 'recommendations.pkl')\n",
        "joblib.dump(accuracy, 'model_accuracy.pkl')  # <-- this is new\n"
      ]
    },
    {
      "cell_type": "code",
      "execution_count": 15,
      "metadata": {},
      "outputs": [
        {
          "name": "stdout",
          "output_type": "stream",
          "text": [
            "🦠 Predicted Disease: Feline Calicivirus | 🎯 Confidence: 29.80%\n",
            "🦠 Predicted Disease: Equine Influenza | 🎯 Confidence: 42.59%\n",
            "🦠 Predicted Disease: Bloat | 🎯 Confidence: 38.40%\n",
            "🦠 Predicted Disease: Rabies | 🎯 Confidence: 46.18%\n",
            "🦠 Predicted Disease: Lyme Disease | 🎯 Confidence: 33.61%\n"
          ]
        }
      ],
      "source": [
        "# Step 6.5: Predict Probabilities\n",
        "probs = model.predict_proba(X_test)\n",
        "\n",
        "# For each prediction, show the top prediction with its confidence\n",
        "for i in range(5):  # change 5 to any number of test samples you want to inspect\n",
        "    top_pred = preds[i]\n",
        "    top_confidence = max(probs[i])\n",
        "    print(f\"🦠 Predicted Disease: {top_pred} | 🎯 Confidence: {top_confidence * 100:.2f}%\")\n"
      ]
    },
    {
      "cell_type": "code",
      "execution_count": 16,
      "metadata": {},
      "outputs": [
        {
          "data": {
            "text/html": [
              "<div>\n",
              "<style scoped>\n",
              "    .dataframe tbody tr th:only-of-type {\n",
              "        vertical-align: middle;\n",
              "    }\n",
              "\n",
              "    .dataframe tbody tr th {\n",
              "        vertical-align: top;\n",
              "    }\n",
              "\n",
              "    .dataframe thead th {\n",
              "        text-align: right;\n",
              "    }\n",
              "</style>\n",
              "<table border=\"1\" class=\"dataframe\">\n",
              "  <thead>\n",
              "    <tr style=\"text-align: right;\">\n",
              "      <th></th>\n",
              "      <th>True Label</th>\n",
              "      <th>Predicted Disease</th>\n",
              "      <th>Confidence</th>\n",
              "    </tr>\n",
              "  </thead>\n",
              "  <tbody>\n",
              "    <tr>\n",
              "      <th>0</th>\n",
              "      <td>Feline Calicivirus</td>\n",
              "      <td>Feline Calicivirus</td>\n",
              "      <td>0.298000</td>\n",
              "    </tr>\n",
              "    <tr>\n",
              "      <th>1</th>\n",
              "      <td>Tetanus</td>\n",
              "      <td>Equine Influenza</td>\n",
              "      <td>0.425933</td>\n",
              "    </tr>\n",
              "    <tr>\n",
              "      <th>2</th>\n",
              "      <td>Anthrax</td>\n",
              "      <td>Bloat</td>\n",
              "      <td>0.384000</td>\n",
              "    </tr>\n",
              "    <tr>\n",
              "      <th>3</th>\n",
              "      <td>Kennel Cough</td>\n",
              "      <td>Rabies</td>\n",
              "      <td>0.461767</td>\n",
              "    </tr>\n",
              "    <tr>\n",
              "      <th>4</th>\n",
              "      <td>Rabies</td>\n",
              "      <td>Lyme Disease</td>\n",
              "      <td>0.336100</td>\n",
              "    </tr>\n",
              "  </tbody>\n",
              "</table>\n",
              "</div>"
            ],
            "text/plain": [
              "           True Label   Predicted Disease  Confidence\n",
              "0  Feline Calicivirus  Feline Calicivirus    0.298000\n",
              "1             Tetanus    Equine Influenza    0.425933\n",
              "2             Anthrax               Bloat    0.384000\n",
              "3        Kennel Cough              Rabies    0.461767\n",
              "4              Rabies        Lyme Disease    0.336100"
            ]
          },
          "execution_count": 16,
          "metadata": {},
          "output_type": "execute_result"
        }
      ],
      "source": [
        "# Create a DataFrame of predictions with confidence\n",
        "results_df = pd.DataFrame({\n",
        "    'True Label': y_test.reset_index(drop=True),\n",
        "    'Predicted Disease': preds,\n",
        "    'Confidence': [max(prob) for prob in probs]\n",
        "})\n",
        "\n",
        "results_df.to_csv(\"prediction_confidence_report.csv\", index=False)\n",
        "results_df.head()\n"
      ]
    },
    {
      "cell_type": "code",
      "execution_count": 4,
      "metadata": {},
      "outputs": [
        {
          "name": "stderr",
          "output_type": "stream",
          "text": [
            "c:\\Users\\Suramya\\anaconda3\\Lib\\site-packages\\sklearn\\metrics\\_classification.py:1531: UndefinedMetricWarning: Precision is ill-defined and being set to 0.0 in labels with no predicted samples. Use `zero_division` parameter to control this behavior.\n",
            "  _warn_prf(average, modifier, f\"{metric.capitalize()} is\", len(result))\n",
            "c:\\Users\\Suramya\\anaconda3\\Lib\\site-packages\\sklearn\\metrics\\_classification.py:1531: UndefinedMetricWarning: Recall is ill-defined and being set to 0.0 in labels with no true samples. Use `zero_division` parameter to control this behavior.\n",
            "  _warn_prf(average, modifier, f\"{metric.capitalize()} is\", len(result))\n"
          ]
        },
        {
          "data": {
            "text/plain": [
              "['performance_metrics.pkl']"
            ]
          },
          "execution_count": 4,
          "metadata": {},
          "output_type": "execute_result"
        }
      ],
      "source": [
        "from sklearn.metrics import confusion_matrix\n",
        "\n",
        "performance_metrics = {\n",
        "    'accuracy': accuracy_score(y_test, y_pred),\n",
        "    'precision': precision_score(y_test, y_pred, average='weighted'),\n",
        "    'recall': recall_score(y_test, y_pred, average='weighted'),\n",
        "    'f1_score': f1_score(y_test, y_pred, average='weighted'),\n",
        "    'confusion_matrix': confusion_matrix(y_test, y_pred, labels=model.classes_).tolist(),\n",
        "    'labels': list(model.classes_)\n",
        "}\n",
        "joblib.dump(performance_metrics, \"performance_metrics.pkl\")\n"
      ]
    }
  ],
  "metadata": {
    "colab": {
      "provenance": []
    },
    "kernelspec": {
      "display_name": "base",
      "language": "python",
      "name": "python3"
    },
    "language_info": {
      "codemirror_mode": {
        "name": "ipython",
        "version": 3
      },
      "file_extension": ".py",
      "mimetype": "text/x-python",
      "name": "python",
      "nbconvert_exporter": "python",
      "pygments_lexer": "ipython3",
      "version": "3.12.7"
    }
  },
  "nbformat": 4,
  "nbformat_minor": 0
}
